{
 "cells": [
  {
   "attachments": {},
   "cell_type": "markdown",
   "metadata": {},
   "source": [
    "go through real dataset and mark artefacts, recompute fixed_name_count with ignored artefacts"
   ]
  },
  {
   "cell_type": "code",
   "execution_count": 3,
   "metadata": {
    "notebookRunGroups": {
     "groupValue": ""
    }
   },
   "outputs": [
    {
     "name": "stdout",
     "output_type": "stream",
     "text": [
      "/home/cv/Dropbox/PHD/Python/ESO/spectra_DL/datasets\n",
      "['/home/cv/Dropbox/PHD/Python/ESO/spectra_DL/tools/catalog_tools', '/home/cv/anaconda3/envs/spectra_DL_env_2/lib/python39.zip', '/home/cv/anaconda3/envs/spectra_DL_env_2/lib/python3.9', '/home/cv/anaconda3/envs/spectra_DL_env_2/lib/python3.9/lib-dynload', '', '/home/cv/.local/lib/python3.9/site-packages', '/home/cv/anaconda3/envs/spectra_DL_env_2/lib/python3.9/site-packages', '/home/cv/Dropbox/PHD/Python/ESO/spectra_DL/datasets', '/home/cv/Dropbox/PHD/Python/ESO/spectra_DL/datasets']\n"
     ]
    }
   ],
   "source": [
    "import os\n",
    "import sys\n",
    "from pathlib import Path\n",
    "import pandas as pd\n",
    "import numpy as np\n",
    "from tqdm import tqdm\n",
    "\n",
    "if os.environ[\"HOME\"] == \"/home/vcvrcek\":\n",
    "    csv_path = Path(\"/home/vcvrcek/Python/spectra_DL/labels/\")\n",
    "    data_folder = Path(\"/diska/vcvrcek/data/\")\n",
    "    real_memmap_filename = data_folder.joinpath(\"real_data/harps-nonan-stable.dat\")\n",
    "elif os.environ[\"HOME\"] == \"/home/cv\":\n",
    "    csv_path = Path(\"/media/cv/big_daddy/ESO/data/metadata/\")\n",
    "    data_folder = Path(\"/media/cv/big_daddy/ESO/data/\")\n",
    "    real_memmap_filename = data_folder.joinpath(\"real_data/harps-nonan-stable.dat\")\n",
    "\n",
    "csv_real_file = csv_path.joinpath(\"harps_labels_complete.csv\")\n",
    "\n",
    "if os.environ[\"HOME\"] == \"/home/vcvrcek\":\n",
    "    project_folder = Path(\"/home/vcvrcek/Python/spectra_DL/\")\n",
    "elif os.environ[\"HOME\"] == \"/home/cv\":\n",
    "    project_folder = Path(\"/home/cv/Dropbox/PHD/Python/ESO/spectra_DL/\")\n",
    "\n",
    "\n",
    "print(project_folder.joinpath(\"datasets/\"))\n",
    "sys.path.append(str(project_folder.joinpath(\"datasets/\")))\n",
    "print(sys.path)\n",
    "from Dataset_real_memmap import harps_real_memmap"
   ]
  },
  {
   "cell_type": "code",
   "execution_count": 2,
   "metadata": {},
   "outputs": [
    {
     "name": "stdout",
     "output_type": "stream",
     "text": [
      "Dataloader: total spectra in file:267361 going to use 267361\n",
      "--------------> None\n"
     ]
    },
    {
     "name": "stderr",
     "output_type": "stream",
     "text": [
      "100%|██████████| 267361/267361 [22:48<00:00, 195.30it/s]\n"
     ]
    }
   ],
   "source": [
    "dataset = harps_real_memmap(\n",
    "    memmap_filename=real_memmap_filename,\n",
    "    dataset_name=\"real\",\n",
    "    csv_file=csv_real_file,\n",
    "    median_norm=False,\n",
    ")\n",
    "\n",
    "is_artefact = np.zeros(len(dataset), dtype=bool)\n",
    "for i in tqdm(range(len(dataset))):\n",
    "    spec = dataset[i][0].numpy()\n",
    "\n",
    "    med = np.median(spec * harps_real_memmap.get_artifact_mask(1))\n",
    "    mean = np.mean(spec)\n",
    "\n",
    "    if med < 50 or mean < 0:\n",
    "        is_artefact[i] = True"
   ]
  },
  {
   "cell_type": "code",
   "execution_count": 16,
   "metadata": {},
   "outputs": [],
   "source": [
    "mask = ~df['is_artefact']\n",
    "counts = df.loc[mask, 'target_name_fixed'].value_counts()\n",
    "df.loc[mask, 'counts_wout_artefact'] = counts.reindex(df.loc[mask, 'target_name_fixed']).fillna(0).values\n",
    "# df.loc[mask, 'counts_wout_artefact'] = counts.reindex(df.loc[mask, 'target_name_fixed']).values\n"
   ]
  },
  {
   "cell_type": "code",
   "execution_count": 15,
   "metadata": {},
   "outputs": [
    {
     "name": "stdout",
     "output_type": "stream",
     "text": [
      "HD128621        19675\n",
      "HD10700          9199\n",
      "HD20794          6766\n",
      "HD190248         5704\n",
      "PROCYON          5700\n",
      "                ...  \n",
      "HIP20187            1\n",
      "HD156098F6IV        1\n",
      "N210014             1\n",
      "GJ4309B             1\n",
      "HIP21332            1\n",
      "Name: target_name_fixed, Length: 6966, dtype: int64\n",
      "0         HD203608\n",
      "1         HD114613\n",
      "2          HIP5158\n",
      "3          HD17051\n",
      "4          HD17051\n",
      "            ...   \n",
      "267356     LTT3864\n",
      "267357      HR4468\n",
      "267358      HR4963\n",
      "267359      HR5035\n",
      "267360     C153012\n",
      "Name: target_name_fixed, Length: 264040, dtype: object\n",
      "(267361, 26)\n"
     ]
    }
   ],
   "source": [
    "mask = ~df['is_artefact']\n",
    "counts = df.loc[mask, 'target_name_fixed'].value_counts()\n",
    "print(counts)\n",
    "print(df.loc[mask, 'target_name_fixed'])\n",
    "print(df.shape)"
   ]
  },
  {
   "cell_type": "code",
   "execution_count": 17,
   "metadata": {},
   "outputs": [],
   "source": [
    "# output the new dataframe\n",
    "csv_out = csv_path.joinpath(\"harps_artefacts_marked.csv\")\n",
    "df.to_csv(csv_out, index=False)"
   ]
  }
 ],
 "metadata": {
  "kernelspec": {
   "display_name": "spectra_DL_env_2",
   "language": "python",
   "name": "python3"
  },
  "language_info": {
   "codemirror_mode": {
    "name": "ipython",
    "version": 3
   },
   "file_extension": ".py",
   "mimetype": "text/x-python",
   "name": "python",
   "nbconvert_exporter": "python",
   "pygments_lexer": "ipython3",
   "version": "3.9.13"
  },
  "orig_nbformat": 4
 },
 "nbformat": 4,
 "nbformat_minor": 2
}
