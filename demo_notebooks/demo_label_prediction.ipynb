{
 "cells": [
  {
   "cell_type": "code",
   "execution_count": 1,
   "metadata": {},
   "outputs": [],
   "source": [
    "import sys\n",
    "if '/home/cv/Dropbox/PHD/Python/ESO/spectra_DL' in sys.path:\n",
    "    sys.path.remove('/home/cv/Dropbox/PHD/Python/ESO/spectra_DL')"
   ]
  },
  {
   "cell_type": "code",
   "execution_count": 2,
   "metadata": {},
   "outputs": [],
   "source": [
    "import torch\n",
    "from HARPS_DL.datasets.Labels import Labels"
   ]
  },
  {
   "cell_type": "markdown",
   "metadata": {},
   "source": [
    "## Load Models"
   ]
  },
  {
   "cell_type": "code",
   "execution_count": 3,
   "metadata": {
    "scrolled": true
   },
   "outputs": [],
   "source": [
    "from HARPS_DL.models_structured.model_infoVAE import info_VAE as infoVAE\n",
    "from HARPS_DL.models_structured.model_composite import composite_VAE\n",
    "models = {}"
   ]
  },
  {
   "cell_type": "markdown",
   "metadata": {},
   "source": [
    "### InfoVAE"
   ]
  },
  {
   "cell_type": "code",
   "execution_count": 4,
   "metadata": {},
   "outputs": [
    {
     "name": "stderr",
     "output_type": "stream",
     "text": [
      "/tmp/ipykernel_1756993/1653281409.py:16: FutureWarning: You are using `torch.load` with `weights_only=False` (the current default value), which uses the default pickle module implicitly. It is possible to construct malicious pickle data which will execute arbitrary code during unpickling (See https://github.com/pytorch/pytorch/blob/main/SECURITY.md#untrusted-models for more details). In a future release, the default value for `weights_only` will be flipped to `True`. This limits the functions that could be executed during unpickling. Arbitrary objects will no longer be allowed to be loaded via this mode unless they are explicitly allowlisted by the user via `torch.serialization.add_safe_globals`. We recommend you start setting `weights_only=True` for any use case where you don't have full control of the loaded file. Please open an issue on GitHub for any issues related to this experimental feature.\n",
      "  state_dict = torch.load(model_ckpt, map_location='cpu')['state_dict']\n"
     ]
    }
   ],
   "source": [
    "labels = Labels(\n",
    "            datasets_names=['ETC', 'real'],\n",
    "            labels=[\"radvel\", \"BERV\", \"Teff\", \"[M/H]\", \"logg\", \"airmass\", \"H2O_pwv\"],\n",
    "            labels_type = 6*[\"shared\"] + [\"ETC\"],\n",
    "            bottleneck=32,\n",
    "            fill_bottleneck=['ETC'],\n",
    "            )\n",
    "labels.json2normalization()\n",
    "\n",
    "model = infoVAE(\n",
    "        encoder_name='CNN_classic',\n",
    "        decoder_name='ResNet_small',\n",
    "        labels=labels,\n",
    "        )\n",
    "model_ckpt = '../selected_models/infoVAE/375-0.108.ckpt'\n",
    "state_dict = torch.load(model_ckpt, map_location='cpu')['state_dict']\n",
    "model.load_state_dict(state_dict)\n",
    "model.eval()\n",
    "models['infoVAE'] = {'model': model, 'labels': labels}"
   ]
  },
  {
   "cell_type": "markdown",
   "metadata": {},
   "source": [
    "### AE (mix)"
   ]
  },
  {
   "cell_type": "code",
   "execution_count": 5,
   "metadata": {},
   "outputs": [
    {
     "name": "stderr",
     "output_type": "stream",
     "text": [
      "/tmp/ipykernel_1756993/479638213.py:17: FutureWarning: You are using `torch.load` with `weights_only=False` (the current default value), which uses the default pickle module implicitly. It is possible to construct malicious pickle data which will execute arbitrary code during unpickling (See https://github.com/pytorch/pytorch/blob/main/SECURITY.md#untrusted-models for more details). In a future release, the default value for `weights_only` will be flipped to `True`. This limits the functions that could be executed during unpickling. Arbitrary objects will no longer be allowed to be loaded via this mode unless they are explicitly allowlisted by the user via `torch.serialization.add_safe_globals`. We recommend you start setting `weights_only=True` for any use case where you don't have full control of the loaded file. Please open an issue on GitHub for any issues related to this experimental feature.\n",
      "  state_dict = torch.load(model_ckpt, map_location='cpu')['state_dict']\n"
     ]
    }
   ],
   "source": [
    "labels = Labels(\n",
    "    datasets_names=['ETC', 'real'],\n",
    "    labels=[\"radvel\", \"BERV\", \"Teff\", \"[M/H]\", \"logg\", \"airmass\"],\n",
    "    labels_type=6*[\"shared\"],        \n",
    "    bottleneck=9,\n",
    "    fill_bottleneck=['ETC'],\n",
    ")\n",
    "labels.json2normalization()\n",
    "\n",
    "model = infoVAE(\n",
    "        encoder_name='CNN_classic',\n",
    "        decoder_name='ResNet_small',\n",
    "        labels=labels,\n",
    "        bottleneck=9,\n",
    "        )\n",
    "model_ckpt = '../selected_models/AE (mix)/221-0.107.ckpt'\n",
    "state_dict = torch.load(model_ckpt, map_location='cpu')['state_dict']\n",
    "model.load_state_dict(state_dict)\n",
    "model.eval()\n",
    "\n",
    "models['AE (mix)'] = {'model': model, 'labels': labels} "
   ]
  },
  {
   "cell_type": "markdown",
   "metadata": {},
   "source": [
    "### AE (real)"
   ]
  },
  {
   "cell_type": "code",
   "execution_count": 6,
   "metadata": {},
   "outputs": [
    {
     "name": "stderr",
     "output_type": "stream",
     "text": [
      "/tmp/ipykernel_1756993/4036647572.py:17: FutureWarning: You are using `torch.load` with `weights_only=False` (the current default value), which uses the default pickle module implicitly. It is possible to construct malicious pickle data which will execute arbitrary code during unpickling (See https://github.com/pytorch/pytorch/blob/main/SECURITY.md#untrusted-models for more details). In a future release, the default value for `weights_only` will be flipped to `True`. This limits the functions that could be executed during unpickling. Arbitrary objects will no longer be allowed to be loaded via this mode unless they are explicitly allowlisted by the user via `torch.serialization.add_safe_globals`. We recommend you start setting `weights_only=True` for any use case where you don't have full control of the loaded file. Please open an issue on GitHub for any issues related to this experimental feature.\n",
      "  state_dict = torch.load(model_ckpt, map_location='cpu')['state_dict']\n"
     ]
    }
   ],
   "source": [
    "labels = Labels(\n",
    "    datasets_names=['ETC', 'real'],\n",
    "    labels=[\"radvel\", \"BERV\", \"Teff\", \"[M/H]\", \"logg\", \"airmass\"],\n",
    "    labels_type=6*[\"real\"],        \n",
    "    bottleneck=9,\n",
    "    fill_bottleneck=['ETC'],\n",
    ")\n",
    "labels.json2normalization()\n",
    "\n",
    "model = infoVAE(\n",
    "        encoder_name='CNN_classic',\n",
    "        decoder_name='ResNet_small',\n",
    "        labels=labels,\n",
    "        bottleneck=9,\n",
    "        )\n",
    "model_ckpt = '../selected_models/AE (real)/439-0.103.ckpt'\n",
    "state_dict = torch.load(model_ckpt, map_location='cpu')['state_dict']\n",
    "model.load_state_dict(state_dict)\n",
    "model.eval()\n",
    "\n",
    "models['AE (real)'] = {'model': model, 'labels': labels} "
   ]
  },
  {
   "cell_type": "markdown",
   "metadata": {},
   "source": [
    "- add recognition models"
   ]
  },
  {
   "cell_type": "markdown",
   "metadata": {},
   "source": [
    "## Label Prediction"
   ]
  },
  {
   "cell_type": "code",
   "execution_count": 7,
   "metadata": {},
   "outputs": [
    {
     "name": "stdout",
     "output_type": "stream",
     "text": [
      "Automatic pdb calling has been turned ON\n"
     ]
    }
   ],
   "source": [
    "%pdb on\n",
    "from astropy.io import fits\n",
    "import numpy as np\n",
    "from HARPS_DL.datasets.Dataset_mixin import Dataset_mixin\n",
    "import pandas as pd\n",
    "\n",
    "dp_id = 'ADP.2014-10-02T10:02:10.163'\n",
    "#dp_id = 'ADP.2014-09-26T16:54:15.037'\n",
    "file_name = dp_id + '.fits'\n",
    "hdul = fits.open(file_name)\n",
    "wave = hdul[1].data.field('WAVE').astype(np.float32).ravel() # barycentric\n",
    "spectrum_fits = hdul[1].data.field('FLUX').astype(np.float32).ravel()\n",
    "emul_wave = Dataset_mixin.get_wave()\n",
    "\n",
    "spectrum = np.interp(emul_wave, wave, spectrum_fits)\n",
    "\n",
    "labels_csv = pd.read_csv('harps_labels.csv')\n",
    "labels_gt = labels_csv[labels_csv['dp_id'] == dp_id].iloc[0].to_dict()\n",
    "labels_gt['name'] = 'real'\n",
    "labels = models[next(iter(models))]['labels']\n",
    "labels_gt = labels.dic2vec(labels_gt)\n",
    "labels_gt = labels.vec2dics(labels.inverse_normalization_array(labels_gt[:labels.get_vec_length(), np.newaxis]))"
   ]
  },
  {
   "cell_type": "code",
   "execution_count": 8,
   "metadata": {},
   "outputs": [
    {
     "data": {
      "text/plain": [
       "Text(0.5, 1.0, 'spectrum in')"
      ]
     },
     "execution_count": 8,
     "metadata": {},
     "output_type": "execute_result"
    },
    {
     "data": {
      "image/png": "[encoded data removed]",
      "text/plain": [
       "<Figure size 640x480 with 1 Axes>"
      ]
     },
     "metadata": {},
     "output_type": "display_data"
    }
   ],
   "source": [
    "from matplotlib import pyplot as plt\n",
    "#spectrum = Dataset_mixin.static_norm_by_median(spectrum, median_threshold=0)\n",
    "plt.figure()\n",
    "plt.plot(emul_wave, spectrum)\n",
    "plt.title('spectrum in')"
   ]
  },
  {
   "cell_type": "code",
   "execution_count": 9,
   "metadata": {},
   "outputs": [
    {
     "data": {
      "text/plain": [
       "{'radvel': array([nan]),\n",
       " 'BERV': array([10.44629228]),\n",
       " 'Teff': array([nan]),\n",
       " '[M/H]': array([nan]),\n",
       " 'logg': array([nan]),\n",
       " 'airmass': array([1.268]),\n",
       " 'H2O_pwv': array([nan])}"
      ]
     },
     "metadata": {},
     "output_type": "display_data"
    },
    {
     "name": "stderr",
     "output_type": "stream",
     "text": [
      "/home/cv/Dropbox/PHD/Python/ESO/standalone_share/replicated_env/lib/python3.10/site-packages/torch/nn/modules/instancenorm.py:88: UserWarning: input's size at dim=1 does not match num_features. You can silence this warning by not passing in num_features, which is not used because affine=False\n",
      "  warnings.warn(f\"input's size at dim={feature_dim} does not match num_features. \"\n"
     ]
    },
    {
     "data": {
      "text/plain": [
       "{'radvel': array([-23.006035], dtype=float32),\n",
       " 'BERV': array([9.950515], dtype=float32),\n",
       " 'Teff': array([5770.465], dtype=float32),\n",
       " '[M/H]': array([0.22096173], dtype=float32),\n",
       " 'logg': array([4.2686667], dtype=float32),\n",
       " 'airmass': array([1.2587546], dtype=float32),\n",
       " 'H2O_pwv': array([6.219159], dtype=float32)}"
      ]
     },
     "metadata": {},
     "output_type": "display_data"
    },
    {
     "data": {
      "text/plain": [
       "{'radvel': array([-22.440536], dtype=float32),\n",
       " 'BERV': array([10.560535], dtype=float32),\n",
       " 'Teff': array([5770.1655], dtype=float32),\n",
       " '[M/H]': array([0.22411068], dtype=float32),\n",
       " 'logg': array([4.257217], dtype=float32),\n",
       " 'airmass': array([1.257092], dtype=float32)}"
      ]
     },
     "metadata": {},
     "output_type": "display_data"
    },
    {
     "data": {
      "text/plain": [
       "{'radvel': array([-22.697006], dtype=float32),\n",
       " 'BERV': array([10.387339], dtype=float32),\n",
       " 'Teff': array([5796.79], dtype=float32),\n",
       " '[M/H]': array([0.23139024], dtype=float32),\n",
       " 'logg': array([4.2718716], dtype=float32),\n",
       " 'airmass': array([1.2597244], dtype=float32)}"
      ]
     },
     "metadata": {},
     "output_type": "display_data"
    }
   ],
   "source": [
    "# Prepare spectrum for the models\n",
    "spec_in = spectrum.reshape(1, 1, -1)\n",
    "spec_in = spec_in/np.median(spec_in)\n",
    "spec_in[:, Dataset_mixin.get_artifact_mask(1) == 0] = 0\n",
    "spec_in = torch.tensor(spec_in, dtype=torch.float32)\n",
    "\n",
    "display(labels_gt['real'])\n",
    "for model_name, model in models.items():\n",
    "    labels = model['labels']\n",
    "    _, b_predict, _, _ = model['model'].forward(spec_in)       \n",
    "    b_denorm = labels.inverse_normalization_array(b_predict.detach().numpy().T[:labels.get_vec_length(),:])\n",
    "    labels_pred = labels.vec2dics(b_denorm)\n",
    "    display(labels_pred['real'])"
   ]
  },
  {
   "cell_type": "code",
   "execution_count": null,
   "metadata": {},
   "outputs": [],
   "source": []
  }
 ],
 "metadata": {
  "kernelspec": {
   "display_name": "Python 3 (ipykernel)",
   "language": "python",
   "name": "python3"
  },
  "language_info": {
   "codemirror_mode": {
    "name": "ipython",
    "version": 3
   },
   "file_extension": ".py",
   "mimetype": "text/x-python",
   "name": "python",
   "nbconvert_exporter": "python",
   "pygments_lexer": "ipython3",
   "version": "3.10.15"
  }
 },
 "nbformat": 4,
 "nbformat_minor": 4
}
